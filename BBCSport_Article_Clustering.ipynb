{
 "cells": [
  {
   "cell_type": "code",
   "execution_count": 24,
   "metadata": {},
   "outputs": [],
   "source": [
    "# importing libraries\n",
    "import numpy as np\n",
    "import os\n",
    "import matplotlib.pyplot as plt\n",
    "\n",
    "from sklearn.feature_extraction.text import TfidfVectorizer\n",
    "from copy import deepcopy\n",
    "from sklearn.metrics.cluster import contingency_matrix\n",
    "from sklearn.decomposition import PCA"
   ]
  },
  {
   "cell_type": "code",
   "execution_count": 25,
   "metadata": {},
   "outputs": [],
   "source": [
    "# building the corpus\n",
    "# the raw text from each file is inserted into a list of strings\n",
    "# ground-truth labels for each document are also inserted into a list\n",
    "raw_text = []\n",
    "labels = []\n",
    "\n",
    "directory = r'bbcsport/athletics'\n",
    "text_pile = []\n",
    "for filename in os.listdir(directory):\n",
    "    with open ('bbcsport/athletics/' + filename, 'r') as file:\n",
    "        temp = ''\n",
    "        for line in file.readlines():\n",
    "            linetext = line.strip()\n",
    "            temp += ''.join([i for i in linetext if not i.isdigit()]) + ' '\n",
    "        text_pile.append(str(temp))\n",
    "        \n",
    "raw_text += text_pile\n",
    "for i in range(len(text_pile)):\n",
    "    labels.append('athletics')\n",
    "    \n",
    "\n",
    "directory = r'bbcsport/cricket'\n",
    "text_pile = []\n",
    "for filename in os.listdir(directory):\n",
    "    with open ('bbcsport/cricket/' + filename, 'r') as file:\n",
    "        temp = ''\n",
    "        for line in file.readlines():\n",
    "            linetext = line.strip()\n",
    "            temp += ''.join([i for i in linetext if not i.isdigit()]) + ' '\n",
    "        text_pile.append(str(temp))\n",
    "        \n",
    "raw_text += text_pile\n",
    "for i in range(len(text_pile)):\n",
    "    labels.append('cricket')\n",
    "\n",
    "\n",
    "directory = r'bbcsport/football'\n",
    "text_pile = []\n",
    "for filename in os.listdir(directory):\n",
    "    with open ('bbcsport/football/' + filename, 'r') as file:\n",
    "        temp = ''\n",
    "        for line in file.readlines():\n",
    "            linetext = line.strip()\n",
    "            temp += ''.join([i for i in linetext if not i.isdigit()]) + ' '\n",
    "        text_pile.append(str(temp))\n",
    "        \n",
    "raw_text += text_pile\n",
    "for i in range(len(text_pile)):\n",
    "    labels.append('football')\n",
    "\n",
    "\n",
    "directory = r'bbcsport/rugby'\n",
    "text_pile = []\n",
    "for filename in os.listdir(directory):\n",
    "    with open ('bbcsport/rugby/' + filename, 'r') as file:\n",
    "        temp = ''\n",
    "        for line in file.readlines():\n",
    "            linetext = line.strip()\n",
    "            temp += ''.join([i for i in linetext if not i.isdigit()]) + ' '\n",
    "        text_pile.append(str(temp))\n",
    "        \n",
    "raw_text += text_pile\n",
    "for i in range(len(text_pile)):\n",
    "    labels.append('rugby')\n",
    "\n",
    "\n",
    "directory = r'bbcsport/tennis'\n",
    "text_pile = []\n",
    "for filename in os.listdir(directory):\n",
    "    with open ('bbcsport/tennis/' + filename, 'r') as file:\n",
    "        temp = ''\n",
    "        for line in file.readlines():\n",
    "            linetext = line.strip()\n",
    "            temp += ''.join([i for i in linetext if not i.isdigit()]) + ' '\n",
    "        text_pile.append(str(temp))\n",
    "        \n",
    "raw_text += text_pile\n",
    "for i in range(len(text_pile)):\n",
    "    labels.append('tennis')\n"
   ]
  },
  {
   "cell_type": "code",
   "execution_count": 26,
   "metadata": {},
   "outputs": [
    {
     "name": "stdout",
     "output_type": "stream",
     "text": [
      "737\n",
      "737\n"
     ]
    }
   ],
   "source": [
    "# check the length of both lists to ensure they match\n",
    "print(len(raw_text))\n",
    "print(len(labels))"
   ]
  },
  {
   "cell_type": "code",
   "execution_count": 27,
   "metadata": {},
   "outputs": [
    {
     "name": "stdout",
     "output_type": "stream",
     "text": [
      "(737, 22)\n"
     ]
    }
   ],
   "source": [
    "# build a tfidf matrix from the raw text\n",
    "tfidf = TfidfVectorizer(stop_words='english', min_df=200)\n",
    "tfidf_matrix = tfidf.fit_transform(raw_text)\n",
    "tfidf_array = tfidf_matrix.toarray()\n",
    "print(tfidf_array.shape)"
   ]
  },
  {
   "cell_type": "code",
   "execution_count": 28,
   "metadata": {},
   "outputs": [],
   "source": [
    "# defining k-means function\n",
    "def get_clusters(X, k):\n",
    "    num_examples, dim = X.shape\n",
    "    \n",
    "    mean = np.mean(X, axis = 0)\n",
    "    std = np.std(X, axis = 0)\n",
    "    centers_new = np.random.randn(k, dim) * std + mean   \n",
    "    centers_old = np.zeros(centers_new.shape)\n",
    "    \n",
    "    labels = np.zeros(num_examples)\n",
    "    distances = np.zeros((num_examples,k))\n",
    "    \n",
    "    error = np.linalg.norm(centers_new - centers_old)\n",
    "    \n",
    "    while error > 0.001:\n",
    "        for i in range(k):\n",
    "            distances[:,i] = np.linalg.norm(X - centers_new[i], axis=1)\n",
    "            \n",
    "        labels = np.argmin(distances, axis = 1)\n",
    "        centers_old = deepcopy(centers_new)\n",
    "        \n",
    "        for i in range(k):\n",
    "            centers_new[i] = np.mean(X[labels == i], axis=0)\n",
    "            \n",
    "        error = np.linalg.norm(centers_new - centers_old)\n",
    "        \n",
    "    return labels, centers_new"
   ]
  },
  {
   "cell_type": "code",
   "execution_count": 29,
   "metadata": {},
   "outputs": [],
   "source": [
    "# training the k-means model\n",
    "labels_pred, centers = get_clusters(tfidf_array, 5)"
   ]
  },
  {
   "cell_type": "code",
   "execution_count": 30,
   "metadata": {},
   "outputs": [],
   "source": [
    "# define SSE function\n",
    "def SSE(X, labels, centers):\n",
    "    sse = 0\n",
    "    n = X.shape[0]\n",
    "    for i in range (n):\n",
    "        sse += np.linalg.norm(X[i] - centers[labels[i]])\n",
    "    return sse"
   ]
  },
  {
   "cell_type": "code",
   "execution_count": 31,
   "metadata": {},
   "outputs": [
    {
     "name": "stdout",
     "output_type": "stream",
     "text": [
      "538.0116813139166\n"
     ]
    }
   ],
   "source": [
    "# get SSE\n",
    "print(SSE(tfidf_array, labels_pred, centers))"
   ]
  },
  {
   "cell_type": "code",
   "execution_count": 32,
   "metadata": {},
   "outputs": [
    {
     "name": "stdout",
     "output_type": "stream",
     "text": [
      "0.4654002713704206\n"
     ]
    }
   ],
   "source": [
    "# purity index, conputed by referencing the confusion matrix\n",
    "def purity_index(labels_true, labels_pred):\n",
    "    confusion_matrix = contingency_matrix(labels_true, labels_pred)\n",
    "    return np.sum(np.amax(confusion_matrix, axis=0)) / np.sum(confusion_matrix) \n",
    "print(purity_index(labels, labels_pred))"
   ]
  },
  {
   "cell_type": "code",
   "execution_count": 33,
   "metadata": {},
   "outputs": [
    {
     "name": "stdout",
     "output_type": "stream",
     "text": [
      "Cluster 1: 8, 40, 41, 57, 59, 60, 69, 71, 74, 82, 85, 89, 92, 93, 97, 101, 103, 122, 144, 145, 146, 154, 160, 161, 165, 174, 177, 181, 182, 187, 188, 191, 192, 193, 212, 234, 235, 236, 237, 238, 239, 247, 264, 269, 276, 278, 293, 295, 299, 301, 303, 304, 309, 310, 320, 344, 349, 354, 355, 361, 368, 371, 376, 393, 398, 399, 408, 414, 421, 422, 426, 430, 431, 443, 469, 470, 471, 473, 477, 479, 483, 484, 485, 489, 497, 499, 500, 508, 517, 520, 531, 538, 547, 550, 570, 583, 586, 590, 605, 611, 623, 637, 638, 640, 641, 644, 645, 647, 649, 650, 651, 655, 656, 660, 662, 663, 666, 667, 669, 671, 673, 674, 675, 679, 682, 692, 696, 699, 700, 702, 704, 707, 713, 714, 721, 722, 723, 726, 727, 729, 730, 731, 732, 733, 734, 736, \n",
      "\n",
      "Cluster 2: 76, 102, 105, 106, 112, 113, 120, 127, 130, 131, 135, 140, 142, 150, 163, 164, 167, 168, 169, 171, 173, 175, 176, 179, 180, 183, 184, 189, 194, 195, 196, 197, 207, 209, 210, 217, 218, 219, 222, 229, 243, 250, 253, 255, 272, 292, 346, 356, 362, 367, 387, 388, 405, 417, 420, 423, 424, 435, 446, 460, 464, 490, 491, 492, 495, 496, 502, 505, 506, 509, 510, 513, 518, 519, 521, 529, 532, 536, 537, 539, 540, 542, 546, 548, 549, 551, 552, 553, 554, 555, 557, 558, 560, 561, 562, 563, 564, 573, 574, 575, 576, 579, 581, 587, 589, 594, 595, 596, 597, 604, 606, 609, 610, 614, 616, 617, 619, 620, 621, 622, 625, 628, 630, 631, 632, 648, 654, \n",
      "\n",
      "Cluster 3: 51, 83, 104, 109, 114, 117, 118, 121, 126, 128, 136, 137, 138, 139, 143, 148, 157, 158, 170, 178, 186, 198, 200, 201, 215, 225, 226, 230, 231, 233, 249, 257, 263, 265, 271, 274, 275, 279, 280, 282, 284, 285, 297, 305, 306, 311, 312, 314, 315, 316, 317, 319, 325, 328, 334, 335, 336, 338, 345, 347, 351, 352, 353, 357, 359, 369, 373, 375, 377, 379, 384, 386, 390, 391, 397, 402, 404, 406, 410, 411, 412, 415, 416, 425, 433, 439, 440, 445, 449, 450, 462, 468, 474, 475, 486, 512, 523, 541, 567, 572, 578, 582, 603, 612, 624, 629, 633, 634, 643, 646, 652, 653, 661, 668, 672, 678, 684, 685, 686, 688, 695, 705, 706, 709, 717, 719, 725, \n",
      "\n",
      "Cluster 4: 16, 39, 53, 55, 58, 67, 81, 100, 107, 108, 110, 115, 119, 123, 125, 129, 133, 134, 141, 147, 149, 152, 153, 155, 156, 159, 162, 166, 172, 185, 199, 202, 203, 205, 206, 211, 213, 214, 216, 220, 221, 223, 224, 227, 240, 241, 242, 245, 248, 251, 252, 254, 256, 258, 259, 261, 266, 267, 268, 270, 273, 277, 281, 286, 287, 288, 289, 290, 294, 296, 302, 308, 313, 318, 322, 326, 327, 330, 331, 332, 333, 337, 339, 340, 341, 343, 348, 350, 358, 360, 363, 364, 365, 366, 370, 372, 374, 378, 382, 383, 385, 389, 394, 400, 403, 407, 413, 418, 427, 428, 429, 432, 434, 436, 437, 438, 441, 442, 444, 452, 456, 458, 459, 467, 478, 481, 487, 488, 494, 498, 501, 504, 507, 511, 514, 515, 516, 522, 524, 525, 526, 527, 530, 533, 534, 535, 543, 544, 545, 556, 559, 565, 566, 568, 569, 571, 577, 584, 585, 588, 591, 592, 593, 598, 599, 600, 607, 608, 615, 618, 626, 636, 677, 689, 690, 698, 718, 720, 724, 735, \n",
      "\n",
      "Cluster 5: 0, 1, 2, 3, 4, 5, 6, 7, 9, 10, 11, 12, 13, 14, 15, 17, 18, 19, 20, 21, 22, 23, 24, 25, 26, 27, 28, 29, 30, 31, 32, 33, 34, 35, 36, 37, 38, 42, 43, 44, 45, 46, 47, 48, 49, 50, 52, 54, 56, 61, 62, 63, 64, 65, 66, 68, 70, 72, 73, 75, 77, 78, 79, 80, 84, 86, 87, 88, 90, 91, 94, 95, 96, 98, 99, 111, 116, 124, 132, 151, 190, 204, 208, 228, 232, 244, 246, 260, 262, 283, 291, 298, 300, 307, 321, 323, 324, 329, 342, 380, 381, 392, 395, 396, 401, 409, 419, 447, 448, 451, 453, 454, 455, 457, 461, 463, 465, 466, 472, 476, 480, 482, 493, 503, 528, 580, 601, 602, 613, 627, 635, 639, 642, 657, 658, 659, 664, 665, 670, 676, 680, 681, 683, 687, 691, 693, 694, 697, 701, 703, 708, 710, 711, 712, 715, 716, 728, \n",
      "\n"
     ]
    }
   ],
   "source": [
    "# display the documents in each cluster\n",
    "for i in range(5):\n",
    "    print(\"Cluster \" + str(i+1) + \": \", end='')\n",
    "    indices = []\n",
    "    for j in range(len(labels_pred)):\n",
    "        if labels_pred[j] == i:\n",
    "            indices.append(j)\n",
    "    for index in indices:\n",
    "        print(str(index) + \", \", end='')\n",
    "    print(\"\\n\")"
   ]
  },
  {
   "cell_type": "code",
   "execution_count": 34,
   "metadata": {
    "scrolled": false
   },
   "outputs": [
    {
     "data": {
      "image/png": "[encoded data removed]",
      "text/plain": [
       "<Figure size 432x288 with 1 Axes>"
      ]
     },
     "metadata": {
      "needs_background": "light"
     },
     "output_type": "display_data"
    }
   ],
   "source": [
    "# implement PCA to reduce the number of dimensions of the data\n",
    "# determine the optimal number of components by attempting to retain ~0.8 variance (100 components)\n",
    "pca = PCA()\n",
    "pca.fit(tfidf_array)\n",
    "plt.plot(range(1,23), pca.explained_variance_ratio_.cumsum(), ms=3, linestyle='--', marker='o')\n",
    "plt.plot(range(1,23), np.repeat(0.8, 22), c='purple', linestyle=':')\n",
    "plt.xlabel('# Components')\n",
    "plt.ylabel('Variance')\n",
    "plt.show()"
   ]
  },
  {
   "cell_type": "code",
   "execution_count": 35,
   "metadata": {},
   "outputs": [],
   "source": [
    "# fit the data to the PCA model\n",
    "pca = PCA(n_components=14)\n",
    "tfidf_pca = pca.fit_transform(tfidf_array)"
   ]
  },
  {
   "cell_type": "code",
   "execution_count": 36,
   "metadata": {},
   "outputs": [],
   "source": [
    "# retrain the k-means model using the obtained PCA Scores\n",
    "labels_pred, centers = get_clusters(tfidf_pca, 5)"
   ]
  },
  {
   "cell_type": "code",
   "execution_count": 37,
   "metadata": {},
   "outputs": [
    {
     "name": "stdout",
     "output_type": "stream",
     "text": [
      "460.48992631843373\n"
     ]
    }
   ],
   "source": [
    "# SSE has decreased\n",
    "print(SSE(tfidf_pca, labels_pred, centers))"
   ]
  },
  {
   "cell_type": "code",
   "execution_count": 39,
   "metadata": {},
   "outputs": [
    {
     "data": {
      "text/plain": [
       "0"
      ]
     },
     "execution_count": 39,
     "metadata": {},
     "output_type": "execute_result"
    }
   ],
   "source": [
    "# converting notebook to html\n",
    "os.system('jupyter nbconvert --to html BBCSport_Article_Clustering.ipynb')"
   ]
  },
  {
   "cell_type": "code",
   "execution_count": null,
   "metadata": {},
   "outputs": [],
   "source": []
  }
 ],
 "metadata": {
  "kernelspec": {
   "display_name": "Python 3",
   "language": "python",
   "name": "python3"
  },
  "language_info": {
   "codemirror_mode": {
    "name": "ipython",
    "version": 3
   },
   "file_extension": ".py",
   "mimetype": "text/x-python",
   "name": "python",
   "nbconvert_exporter": "python",
   "pygments_lexer": "ipython3",
   "version": "3.7.3"
  }
 },
 "nbformat": 4,
 "nbformat_minor": 2
}
