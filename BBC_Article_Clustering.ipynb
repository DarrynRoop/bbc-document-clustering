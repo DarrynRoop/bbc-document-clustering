{
  "nbformat": 4,
  "nbformat_minor": 0,
  "metadata": {
    "kernelspec": {
      "display_name": "Python 3",
      "language": "python",
      "name": "python3"
    },
    "language_info": {
      "codemirror_mode": {
        "name": "ipython",
        "version": 3
      },
      "file_extension": ".py",
      "mimetype": "text/x-python",
      "name": "python",
      "nbconvert_exporter": "python",
      "pygments_lexer": "ipython3",
      "version": "3.7.3"
    },
    "colab": {
      "name": "BBC_Article_Clustering.ipynb",
      "provenance": []
    }
  },
  "cells": [
    {
      "cell_type": "code",
      "metadata": {
        "id": "W4w8H4qXlc-s"
      },
      "source": [
        "# importing libraries\n",
        "import numpy as np\n",
        "import os\n",
        "import matplotlib.pyplot as plt\n",
        "\n",
        "from sklearn.feature_extraction.text import TfidfVectorizer\n",
        "from copy import deepcopy\n",
        "from sklearn.metrics.cluster import contingency_matrix\n",
        "from sklearn.decomposition import PCA"
      ],
      "execution_count": null,
      "outputs": []
    },
    {
      "cell_type": "code",
      "metadata": {
        "id": "6mkvyZN3lc-t"
      },
      "source": [
        "# building the corpus\n",
        "# the raw text from each file is inserted into a list of strings\n",
        "# ground-truth labels for each document are also inserted into a list\n",
        "raw_text = []\n",
        "labels = []\n",
        "\n",
        "topics = ['business', 'entertainment', 'politics', 'sport', 'tech']\n",
        "\n",
        "for topic in topics:\n",
        "  directory = os.fsencode(f'bbc/{topic}')\n",
        "  text_pile = []\n",
        "  for filename in os.listdir(directory):\n",
        "      with open (f'bbc/{topic}/' + filename, 'r') as file:\n",
        "          temp = ''\n",
        "          for line in file.readlines():\n",
        "              linetext = line.strip()\n",
        "              temp += ''.join([i for i in linetext if not i.isdigit()]) + ' '\n",
        "          text_pile.append(str(temp))\n",
        "          \n",
        "  raw_text += text_pile\n",
        "  for i in range(len(text_pile)):\n",
        "      labels.append(topic)"
      ],
      "execution_count": null,
      "outputs": []
    },
    {
      "cell_type": "code",
      "metadata": {
        "id": "1kpAjVaBlc-t",
        "outputId": "d2fe5076-e645-4712-8e9d-39b2aac8eb62"
      },
      "source": [
        "# check the length of both lists to ensure they match\n",
        "print(len(raw_text))\n",
        "print(len(labels))"
      ],
      "execution_count": null,
      "outputs": [
        {
          "name": "stdout",
          "output_type": "stream",
          "text": [
            "2225\n",
            "2225\n"
          ]
        }
      ]
    },
    {
      "cell_type": "code",
      "metadata": {
        "id": "U8WyL6oelc-u",
        "outputId": "c6cc63d1-126b-4a79-f98a-0ed5319b06fc"
      },
      "source": [
        "# build a tfidf matrix from the raw text\n",
        "tfidf = TfidfVectorizer(stop_words='english', min_df=200)\n",
        "tfidf_matrix = tfidf.fit_transform(raw_text)\n",
        "tfidf_array = tfidf_matrix.toarray()\n",
        "print(tfidf_array.shape)"
      ],
      "execution_count": null,
      "outputs": [
        {
          "name": "stdout",
          "output_type": "stream",
          "text": [
            "(2225, 191)\n"
          ]
        }
      ]
    },
    {
      "cell_type": "code",
      "metadata": {
        "id": "Wlx4rizYlc-u"
      },
      "source": [
        "# defining k-means function\n",
        "def get_clusters(X, k):\n",
        "    num_examples, dim = X.shape\n",
        "    \n",
        "    mean = np.mean(X, axis = 0)\n",
        "    std = np.std(X, axis = 0)\n",
        "    centers_new = np.random.randn(k, dim) * std + mean   \n",
        "    centers_old = np.zeros(centers_new.shape)\n",
        "    \n",
        "    labels = np.zeros(num_examples)\n",
        "    distances = np.zeros((num_examples,k))\n",
        "    \n",
        "    error = np.linalg.norm(centers_new - centers_old)\n",
        "    \n",
        "    while error > 0.001:\n",
        "        for i in range(k):\n",
        "            distances[:,i] = np.linalg.norm(X - centers_new[i], axis=1)\n",
        "            \n",
        "        labels = np.argmin(distances, axis = 1)\n",
        "        centers_old = deepcopy(centers_new)\n",
        "        \n",
        "        for i in range(k):\n",
        "            centers_new[i] = np.mean(X[labels == i], axis=0)\n",
        "            \n",
        "        error = np.linalg.norm(centers_new - centers_old)\n",
        "        \n",
        "    return labels, centers_new"
      ],
      "execution_count": null,
      "outputs": []
    },
    {
      "cell_type": "code",
      "metadata": {
        "id": "DkROOKsklc-v"
      },
      "source": [
        "# training the k-means model\n",
        "labels_pred, centers = get_clusters(tfidf_array, 5)"
      ],
      "execution_count": null,
      "outputs": []
    },
    {
      "cell_type": "code",
      "metadata": {
        "id": "eUZA-yqplc-v"
      },
      "source": [
        "# define SSE function\n",
        "def SSE(X, labels, centers):\n",
        "    sse = 0\n",
        "    n = X.shape[0]\n",
        "    for i in range (n):\n",
        "        sse += np.linalg.norm(X[i] - centers[labels[i]])\n",
        "    return sse"
      ],
      "execution_count": null,
      "outputs": []
    },
    {
      "cell_type": "code",
      "metadata": {
        "id": "eb77pb2Alc-v",
        "outputId": "31a6c14d-ec47-496c-ebd0-b8f658c8e19e"
      },
      "source": [
        "# get SSE\n",
        "print(SSE(tfidf_array, labels_pred, centers))"
      ],
      "execution_count": null,
      "outputs": [
        {
          "name": "stdout",
          "output_type": "stream",
          "text": [
            "1957.1510371364425\n"
          ]
        }
      ]
    },
    {
      "cell_type": "code",
      "metadata": {
        "id": "vD6B5MWdlc-v",
        "outputId": "405f72c9-54e0-4e7f-971c-8d103cd3e769"
      },
      "source": [
        "# purity index, conputed by referencing the confusion matrix\n",
        "def purity_index(labels_true, labels_pred):\n",
        "    confusion_matrix = contingency_matrix(labels_true, labels_pred)\n",
        "    return np.sum(np.amax(confusion_matrix, axis=0)) / np.sum(confusion_matrix) \n",
        "print(purity_index(labels, labels_pred))"
      ],
      "execution_count": null,
      "outputs": [
        {
          "name": "stdout",
          "output_type": "stream",
          "text": [
            "0.6485393258426966\n"
          ]
        }
      ]
    },
    {
      "cell_type": "code",
      "metadata": {
        "id": "V2EX8aQSlc-v",
        "outputId": "51f2d9fc-63d2-46bb-b195-e77d115c8e7a"
      },
      "source": [
        "# display the documents in each cluster\n",
        "for i in range(5):\n",
        "    print(\"Cluster \" + str(i+1) + \": \", end='')\n",
        "    indices = []\n",
        "    for j in range(len(labels_pred)):\n",
        "        if labels_pred[j] == i:\n",
        "            indices.append(j)\n",
        "    for index in indices:\n",
        "        print(str(index) + \", \", end='')\n",
        "    print(\"\\n\")"
      ],
      "execution_count": null,
      "outputs": [
        {
          "name": "stdout",
          "output_type": "stream",
          "text": [
            "Cluster 1: 0, 2, 4, 9, 10, 12, 16, 18, 23, 24, 26, 31, 33, 34, 37, 38, 46, 47, 49, 50, 51, 52, 54, 58, 61, 66, 69, 70, 73, 76, 77, 79, 81, 82, 83, 84, 87, 90, 91, 92, 94, 95, 96, 102, 103, 110, 111, 114, 115, 116, 117, 121, 123, 124, 125, 126, 129, 130, 131, 139, 141, 142, 144, 147, 149, 154, 157, 158, 159, 160, 161, 163, 165, 168, 170, 172, 173, 180, 187, 188, 190, 191, 193, 200, 201, 203, 207, 211, 215, 217, 219, 220, 221, 222, 227, 229, 232, 237, 240, 246, 248, 249, 250, 253, 258, 263, 264, 265, 268, 272, 275, 276, 277, 278, 279, 287, 290, 297, 298, 299, 300, 301, 302, 303, 306, 307, 309, 310, 311, 312, 313, 314, 315, 317, 318, 320, 322, 323, 324, 325, 327, 331, 332, 333, 334, 336, 337, 338, 340, 341, 345, 346, 348, 352, 353, 357, 358, 359, 361, 362, 365, 367, 368, 374, 377, 385, 390, 391, 392, 393, 395, 397, 398, 400, 402, 403, 405, 406, 408, 410, 411, 413, 416, 417, 418, 419, 420, 421, 423, 425, 426, 428, 430, 434, 436, 439, 440, 443, 445, 450, 453, 455, 457, 459, 461, 463, 464, 466, 468, 469, 470, 478, 479, 482, 484, 485, 487, 488, 490, 491, 497, 498, 499, 500, 502, 504, 507, 555, 847, 912, 1023, 1261, 1280, 1956, 2003, \n",
            "\n",
            "Cluster 2: 1, 3, 5, 6, 7, 8, 11, 13, 14, 15, 17, 19, 21, 22, 25, 27, 28, 29, 30, 32, 35, 36, 39, 40, 41, 42, 43, 44, 45, 48, 53, 55, 56, 57, 60, 62, 63, 64, 65, 67, 68, 71, 72, 74, 75, 78, 80, 85, 88, 89, 93, 97, 98, 100, 101, 104, 106, 107, 108, 109, 112, 118, 119, 120, 122, 127, 128, 132, 133, 134, 136, 137, 138, 140, 143, 145, 146, 148, 150, 151, 152, 155, 162, 164, 166, 167, 169, 171, 174, 175, 176, 177, 179, 181, 182, 183, 184, 185, 186, 189, 192, 194, 196, 197, 198, 199, 202, 204, 205, 206, 209, 210, 212, 213, 214, 218, 224, 225, 226, 230, 231, 233, 234, 235, 236, 238, 239, 242, 243, 244, 247, 251, 252, 254, 255, 256, 257, 259, 260, 261, 262, 266, 267, 269, 270, 271, 273, 274, 280, 281, 282, 283, 284, 285, 286, 288, 289, 291, 292, 293, 294, 295, 296, 304, 305, 308, 316, 319, 321, 326, 328, 329, 330, 335, 339, 342, 343, 344, 347, 349, 350, 351, 354, 355, 356, 360, 363, 364, 369, 370, 372, 373, 375, 376, 378, 379, 380, 381, 382, 383, 384, 386, 388, 389, 394, 396, 399, 401, 404, 407, 409, 412, 414, 415, 424, 427, 429, 431, 432, 433, 435, 437, 438, 441, 442, 446, 447, 448, 449, 452, 454, 458, 460, 462, 465, 467, 471, 472, 473, 474, 475, 476, 477, 480, 481, 483, 489, 492, 493, 494, 495, 501, 503, 506, 508, 509, 510, 511, 513, 518, 520, 521, 523, 524, 526, 527, 529, 530, 531, 532, 533, 534, 535, 536, 540, 552, 559, 567, 568, 575, 583, 589, 597, 602, 609, 612, 613, 616, 618, 621, 622, 624, 625, 626, 628, 630, 631, 632, 633, 635, 636, 637, 638, 639, 640, 641, 643, 644, 645, 646, 647, 648, 649, 650, 651, 652, 653, 655, 657, 659, 660, 661, 663, 666, 667, 668, 669, 670, 671, 672, 673, 675, 676, 677, 679, 680, 681, 682, 684, 687, 688, 689, 690, 691, 692, 693, 694, 695, 699, 700, 701, 702, 704, 705, 706, 708, 710, 711, 712, 713, 714, 715, 716, 717, 718, 719, 720, 721, 722, 723, 725, 726, 727, 728, 730, 731, 734, 735, 736, 738, 739, 740, 741, 742, 743, 745, 746, 748, 749, 750, 751, 752, 753, 754, 755, 756, 757, 758, 759, 761, 763, 764, 765, 766, 767, 768, 769, 770, 771, 772, 774, 775, 776, 777, 779, 780, 782, 783, 785, 787, 788, 789, 790, 792, 793, 795, 796, 798, 799, 800, 801, 805, 807, 814, 819, 820, 822, 826, 827, 828, 829, 830, 836, 842, 849, 851, 852, 853, 854, 855, 857, 858, 862, 865, 867, 868, 872, 873, 874, 896, 898, 901, 905, 910, 911, 913, 915, 918, 920, 921, 924, 925, 926, 928, 933, 934, 935, 937, 939, 942, 943, 946, 947, 950, 951, 952, 954, 955, 956, 958, 959, 960, 961, 962, 963, 966, 971, 973, 975, 979, 981, 985, 986, 987, 993, 996, 998, 999, 1000, 1003, 1004, 1009, 1010, 1011, 1013, 1014, 1016, 1018, 1019, 1022, 1024, 1025, 1026, 1029, 1032, 1033, 1034, 1035, 1039, 1041, 1053, 1056, 1057, 1059, 1060, 1062, 1065, 1068, 1069, 1071, 1072, 1073, 1074, 1076, 1078, 1080, 1082, 1083, 1086, 1090, 1093, 1097, 1098, 1099, 1100, 1103, 1105, 1106, 1109, 1110, 1114, 1116, 1117, 1119, 1124, 1125, 1126, 1128, 1134, 1135, 1136, 1137, 1138, 1139, 1141, 1143, 1164, 1174, 1186, 1189, 1191, 1193, 1204, 1205, 1212, 1253, 1260, 1263, 1264, 1265, 1268, 1272, 1275, 1276, 1283, 1285, 1287, 1288, 1307, 1316, 1319, 1320, 1327, 1331, 1338, 1341, 1344, 1347, 1348, 1349, 1351, 1356, 1357, 1361, 1362, 1366, 1377, 1392, 1394, 1400, 1401, 1403, 1430, 1436, 1443, 1448, 1473, 1476, 1480, 1482, 1485, 1505, 1508, 1509, 1514, 1515, 1516, 1519, 1523, 1542, 1546, 1563, 1578, 1585, 1675, 1698, 1714, 1760, 1797, 1799, 1814, 1824, 1825, 1826, 1827, 1828, 1829, 1830, 1831, 1833, 1834, 1835, 1837, 1838, 1839, 1840, 1841, 1842, 1843, 1844, 1845, 1846, 1848, 1849, 1850, 1852, 1853, 1854, 1855, 1856, 1857, 1859, 1860, 1861, 1862, 1863, 1864, 1865, 1866, 1867, 1868, 1870, 1871, 1872, 1873, 1875, 1876, 1877, 1878, 1881, 1882, 1883, 1884, 1885, 1886, 1887, 1888, 1889, 1890, 1892, 1893, 1895, 1896, 1897, 1898, 1899, 1900, 1901, 1902, 1903, 1904, 1905, 1906, 1907, 1908, 1909, 1910, 1911, 1912, 1913, 1914, 1915, 1916, 1917, 1919, 1920, 1921, 1922, 1924, 1925, 1926, 1928, 1929, 1930, 1931, 1932, 1933, 1934, 1936, 1937, 1938, 1939, 1940, 1941, 1942, 1943, 1944, 1945, 1946, 1947, 1951, 1952, 1953, 1954, 1955, 1957, 1959, 1960, 1961, 1964, 1965, 1966, 1968, 1969, 1970, 1971, 1972, 1973, 1974, 1975, 1976, 1978, 1979, 1981, 1982, 1984, 1985, 1986, 1987, 1988, 1989, 1990, 1991, 1996, 1997, 1998, 1999, 2000, 2001, 2002, 2004, 2005, 2006, 2007, 2008, 2009, 2010, 2011, 2012, 2013, 2014, 2015, 2016, 2017, 2019, 2020, 2021, 2022, 2023, 2024, 2025, 2027, 2028, 2029, 2030, 2031, 2033, 2034, 2035, 2036, 2037, 2038, 2039, 2040, 2042, 2043, 2044, 2045, 2046, 2047, 2048, 2049, 2050, 2051, 2052, 2053, 2055, 2057, 2058, 2059, 2060, 2061, 2062, 2063, 2065, 2066, 2069, 2071, 2073, 2074, 2075, 2076, 2077, 2078, 2079, 2080, 2081, 2082, 2083, 2084, 2085, 2086, 2087, 2088, 2090, 2091, 2092, 2093, 2098, 2100, 2101, 2102, 2103, 2104, 2105, 2107, 2108, 2109, 2110, 2112, 2113, 2114, 2115, 2116, 2117, 2118, 2119, 2120, 2121, 2122, 2123, 2124, 2125, 2126, 2127, 2128, 2130, 2131, 2132, 2133, 2135, 2136, 2137, 2138, 2139, 2140, 2141, 2142, 2143, 2144, 2145, 2147, 2148, 2149, 2150, 2151, 2152, 2153, 2154, 2155, 2156, 2157, 2158, 2159, 2160, 2161, 2162, 2163, 2164, 2165, 2166, 2167, 2168, 2169, 2170, 2172, 2173, 2175, 2176, 2178, 2179, 2180, 2181, 2183, 2184, 2185, 2186, 2187, 2188, 2189, 2190, 2191, 2192, 2193, 2194, 2195, 2196, 2197, 2198, 2199, 2200, 2201, 2203, 2204, 2205, 2206, 2207, 2208, 2209, 2210, 2211, 2212, 2213, 2214, 2215, 2216, 2217, 2218, 2220, 2221, 2222, \n",
            "\n",
            "Cluster 3: 59, 86, 99, 105, 113, 135, 153, 156, 178, 195, 208, 216, 223, 228, 241, 245, 366, 387, 422, 444, 451, 456, 486, 496, 505, 617, 619, 623, 656, 658, 678, 802, 897, 899, 900, 902, 903, 904, 906, 907, 908, 909, 914, 916, 917, 919, 922, 923, 927, 929, 930, 931, 932, 936, 938, 940, 941, 944, 945, 948, 949, 953, 957, 964, 965, 967, 968, 969, 970, 972, 974, 976, 977, 978, 980, 982, 983, 984, 988, 989, 990, 991, 992, 994, 995, 997, 1001, 1002, 1005, 1006, 1007, 1008, 1012, 1015, 1017, 1020, 1021, 1027, 1028, 1030, 1031, 1036, 1037, 1038, 1040, 1042, 1043, 1044, 1045, 1046, 1047, 1048, 1049, 1050, 1051, 1052, 1054, 1055, 1058, 1061, 1063, 1064, 1066, 1067, 1070, 1075, 1077, 1079, 1081, 1084, 1087, 1088, 1089, 1091, 1092, 1095, 1096, 1101, 1102, 1104, 1107, 1108, 1111, 1112, 1113, 1115, 1118, 1120, 1121, 1122, 1123, 1127, 1129, 1130, 1131, 1132, 1133, 1140, 1142, 1144, 1145, 1146, 1147, 1148, 1149, 1150, 1151, 1152, 1153, 1154, 1155, 1156, 1157, 1159, 1160, 1161, 1162, 1163, 1165, 1166, 1167, 1168, 1169, 1170, 1171, 1172, 1173, 1175, 1176, 1177, 1178, 1179, 1180, 1181, 1182, 1183, 1184, 1185, 1187, 1188, 1190, 1192, 1194, 1195, 1196, 1197, 1198, 1199, 1200, 1201, 1202, 1203, 1206, 1207, 1208, 1209, 1210, 1211, 1213, 1214, 1215, 1216, 1217, 1218, 1219, 1220, 1221, 1222, 1223, 1224, 1225, 1226, 1227, 1228, 1229, 1230, 1231, 1232, 1233, 1234, 1235, 1236, 1237, 1238, 1239, 1240, 1241, 1242, 1243, 1244, 1245, 1246, 1247, 1248, 1249, 1250, 1251, 1252, 1254, 1255, 1256, 1257, 1258, 1259, 1262, 1266, 1267, 1269, 1270, 1271, 1273, 1274, 1277, 1278, 1279, 1281, 1282, 1284, 1286, 1289, 1290, 1291, 1292, 1293, 1294, 1295, 1296, 1297, 1298, 1299, 1300, 1301, 1302, 1303, 1304, 1305, 1306, 1308, 1309, 1310, 1311, 1312, 1858, 1874, 1891, 1950, 1995, 2032, 2094, 2096, 2146, 2177, 2223, \n",
            "\n",
            "Cluster 4: 371, 516, 519, 522, 528, 590, 601, 615, 620, 627, 629, 634, 642, 654, 664, 683, 696, 697, 698, 709, 732, 747, 760, 762, 791, 794, 797, 831, 1085, 1094, 1158, 1313, 1314, 1315, 1317, 1318, 1321, 1322, 1323, 1324, 1325, 1326, 1328, 1329, 1330, 1332, 1333, 1334, 1335, 1336, 1337, 1339, 1340, 1342, 1343, 1345, 1346, 1350, 1352, 1353, 1354, 1355, 1358, 1359, 1360, 1363, 1364, 1365, 1367, 1368, 1369, 1370, 1371, 1372, 1373, 1374, 1375, 1376, 1378, 1379, 1380, 1381, 1382, 1383, 1384, 1385, 1386, 1387, 1388, 1389, 1390, 1391, 1393, 1395, 1396, 1397, 1398, 1399, 1402, 1404, 1405, 1406, 1407, 1408, 1409, 1410, 1411, 1412, 1413, 1414, 1415, 1416, 1417, 1418, 1419, 1420, 1421, 1422, 1423, 1424, 1425, 1426, 1427, 1428, 1429, 1431, 1432, 1433, 1434, 1435, 1437, 1438, 1439, 1440, 1441, 1442, 1444, 1445, 1446, 1447, 1449, 1450, 1451, 1452, 1453, 1454, 1455, 1456, 1457, 1458, 1459, 1460, 1461, 1462, 1463, 1464, 1465, 1466, 1467, 1468, 1469, 1470, 1471, 1472, 1474, 1475, 1477, 1478, 1479, 1481, 1483, 1484, 1486, 1487, 1488, 1489, 1490, 1491, 1492, 1493, 1494, 1495, 1496, 1497, 1498, 1499, 1500, 1501, 1502, 1503, 1504, 1506, 1507, 1510, 1511, 1512, 1513, 1517, 1518, 1520, 1521, 1522, 1524, 1525, 1526, 1527, 1528, 1529, 1530, 1531, 1532, 1533, 1534, 1535, 1536, 1537, 1538, 1539, 1540, 1541, 1543, 1544, 1545, 1547, 1548, 1549, 1550, 1551, 1552, 1553, 1554, 1555, 1556, 1557, 1558, 1559, 1560, 1561, 1562, 1564, 1565, 1566, 1567, 1568, 1569, 1570, 1571, 1572, 1573, 1574, 1575, 1576, 1577, 1579, 1580, 1581, 1582, 1583, 1584, 1586, 1587, 1588, 1589, 1590, 1591, 1592, 1593, 1594, 1595, 1596, 1597, 1598, 1599, 1600, 1601, 1602, 1603, 1604, 1605, 1606, 1607, 1608, 1609, 1610, 1611, 1612, 1613, 1614, 1615, 1616, 1617, 1618, 1619, 1620, 1621, 1622, 1623, 1624, 1625, 1626, 1627, 1628, 1629, 1630, 1631, 1632, 1633, 1634, 1635, 1636, 1637, 1638, 1639, 1640, 1641, 1642, 1643, 1644, 1645, 1646, 1647, 1648, 1649, 1650, 1651, 1652, 1653, 1654, 1655, 1656, 1657, 1658, 1659, 1660, 1661, 1662, 1663, 1664, 1665, 1666, 1667, 1668, 1669, 1670, 1671, 1672, 1673, 1674, 1676, 1677, 1678, 1679, 1680, 1681, 1682, 1683, 1684, 1685, 1686, 1687, 1688, 1689, 1690, 1691, 1692, 1693, 1694, 1695, 1696, 1697, 1699, 1700, 1701, 1702, 1703, 1704, 1705, 1706, 1707, 1708, 1709, 1710, 1711, 1712, 1713, 1715, 1716, 1717, 1718, 1719, 1720, 1721, 1722, 1723, 1724, 1725, 1726, 1727, 1728, 1729, 1730, 1731, 1732, 1733, 1734, 1735, 1736, 1737, 1738, 1739, 1740, 1741, 1742, 1743, 1744, 1745, 1746, 1747, 1748, 1749, 1750, 1751, 1752, 1753, 1754, 1755, 1756, 1757, 1758, 1759, 1761, 1762, 1763, 1764, 1765, 1766, 1767, 1768, 1769, 1770, 1771, 1772, 1773, 1774, 1775, 1776, 1777, 1778, 1779, 1780, 1781, 1782, 1783, 1784, 1785, 1786, 1787, 1788, 1789, 1790, 1791, 1792, 1793, 1794, 1795, 1796, 1798, 1800, 1801, 1802, 1803, 1804, 1805, 1806, 1807, 1808, 1809, 1810, 1811, 1812, 1813, 1815, 1816, 1817, 1818, 1819, 1820, 1821, 1822, 1823, 1832, 1847, 1851, 1879, 1880, 1894, 1918, 1923, 1927, 1935, 1948, 1949, 1958, 1962, 1963, 1967, 1977, 1980, 1983, 1992, 1993, 1994, 2018, 2026, 2041, 2054, 2056, 2067, 2068, 2070, 2072, 2089, 2095, 2097, 2099, 2106, 2111, 2129, 2134, 2171, 2174, 2182, 2202, 2219, 2224, \n",
            "\n",
            "Cluster 5: 20, 512, 514, 515, 517, 525, 537, 538, 539, 541, 542, 543, 544, 545, 546, 547, 548, 549, 550, 551, 553, 554, 556, 557, 558, 560, 561, 562, 563, 564, 565, 566, 569, 570, 571, 572, 573, 574, 576, 577, 578, 579, 580, 581, 582, 584, 585, 586, 587, 588, 591, 592, 593, 594, 595, 596, 598, 599, 600, 603, 604, 605, 606, 607, 608, 610, 611, 614, 662, 665, 674, 685, 686, 703, 707, 724, 729, 733, 737, 744, 773, 778, 781, 784, 786, 803, 804, 806, 808, 809, 810, 811, 812, 813, 815, 816, 817, 818, 821, 823, 824, 825, 832, 833, 834, 835, 837, 838, 839, 840, 841, 843, 844, 845, 846, 848, 850, 856, 859, 860, 861, 863, 864, 866, 869, 870, 871, 875, 876, 877, 878, 879, 880, 881, 882, 883, 884, 885, 886, 887, 888, 889, 890, 891, 892, 893, 894, 895, 1836, 1869, 2064, \n",
            "\n"
          ]
        }
      ]
    },
    {
      "cell_type": "code",
      "metadata": {
        "scrolled": false,
        "id": "--I8KEwhlc-w",
        "outputId": "50ed394c-f40f-4df7-b1ae-3ea0545f2a25"
      },
      "source": [
        "# implement PCA to reduce the number of dimensions of the data\n",
        "# determine the optimal number of components by attempting to retain ~0.8 variance (100 components)\n",
        "pca = PCA()\n",
        "pca.fit(tfidf_array)\n",
        "plt.plot(range(1,192), pca.explained_variance_ratio_.cumsum(), ms=3, linestyle='--')\n",
        "plt.plot(range(1,192), np.repeat(0.8, 191), c='purple', linestyle=':')\n",
        "plt.xlabel('# Components')\n",
        "plt.ylabel('Variance')\n",
        "plt.show()"
      ],
      "execution_count": null,
      "outputs": [
        {
          "data": {
            "image/png": "[encoded data removed]",
            "text/plain": [
              "<Figure size 432x288 with 1 Axes>"
            ]
          },
          "metadata": {
            "needs_background": "light"
          },
          "output_type": "display_data"
        }
      ]
    },
    {
      "cell_type": "code",
      "metadata": {
        "id": "TVDMtgablc-w"
      },
      "source": [
        "# fit the data to the PCA model\n",
        "pca = PCA(n_components=100)\n",
        "tfidf_pca = pca.fit_transform(tfidf_array)"
      ],
      "execution_count": null,
      "outputs": []
    },
    {
      "cell_type": "code",
      "metadata": {
        "id": "Tsd5vKiblc-w"
      },
      "source": [
        "# retrain the k-means model using the obtained PCA Scores\n",
        "labels_pred, centers = get_clusters(tfidf_pca, 5)"
      ],
      "execution_count": null,
      "outputs": []
    },
    {
      "cell_type": "code",
      "metadata": {
        "id": "xdGyfeJmlc-w",
        "outputId": "9c75bd3a-d04d-4e0a-d6e9-af5cef41676d"
      },
      "source": [
        "# SSE has decreased\n",
        "print(SSE(tfidf_pca, labels_pred, centers))"
      ],
      "execution_count": null,
      "outputs": [
        {
          "name": "stdout",
          "output_type": "stream",
          "text": [
            "1689.261672117668\n"
          ]
        }
      ]
    },
    {
      "cell_type": "code",
      "metadata": {
        "id": "3vv0Evt7lc-w",
        "outputId": "5c80582d-eda7-4353-e4bb-b82121a3b32c"
      },
      "source": [
        "# converting notebook to html\n",
        "os.system('jupyter nbconvert --to html BBC_Article_Clustering.ipynb')"
      ],
      "execution_count": null,
      "outputs": [
        {
          "data": {
            "text/plain": [
              "0"
            ]
          },
          "execution_count": 44,
          "metadata": {},
          "output_type": "execute_result"
        }
      ]
    },
    {
      "cell_type": "code",
      "metadata": {
        "id": "stI2Rw-flc-w"
      },
      "source": [
        ""
      ],
      "execution_count": null,
      "outputs": []
    }
  ]
}